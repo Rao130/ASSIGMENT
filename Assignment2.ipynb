{
 "cells": [
  {
   "cell_type": "code",
   "execution_count": null,
   "id": "b2be881c-65c5-4782-b349-10785144df48",
   "metadata": {},
   "outputs": [],
   "source": [
    "#Write a function that takes input from user and return data entered by user as a list your function should insure that value given by user are integer "
   ]
  },
  {
   "cell_type": "code",
   "execution_count": 16,
   "id": "6078e5d1-2884-4fd3-8224-391558238e41",
   "metadata": {},
   "outputs": [
    {
     "name": "stdin",
     "output_type": "stream",
     "text": [
      "Enter size of list: 3\n",
      " 4\n",
      "Enter integer {i+1}:  4\n",
      " 5\n",
      "Enter integer {i+1}:  567\n",
      " 44 5 5 6 7 \n"
     ]
    },
    {
     "ename": "ValueError",
     "evalue": "invalid literal for int() with base 10: '44 5 5 6 7 '",
     "output_type": "error",
     "traceback": [
      "\u001b[1;31m---------------------------------------------------------------------------\u001b[0m",
      "\u001b[1;31mValueError\u001b[0m                                Traceback (most recent call last)",
      "Cell \u001b[1;32mIn[16], line 9\u001b[0m\n\u001b[0;32m      7\u001b[0m     \u001b[38;5;28;01mreturn\u001b[39;00m lst\n\u001b[0;32m      8\u001b[0m n \u001b[38;5;241m=\u001b[39m \u001b[38;5;28mint\u001b[39m(\u001b[38;5;28minput\u001b[39m(\u001b[38;5;124m\"\u001b[39m\u001b[38;5;124mEnter size of list:\u001b[39m\u001b[38;5;124m\"\u001b[39m))\n\u001b[1;32m----> 9\u001b[0m result \u001b[38;5;241m=\u001b[39m \u001b[43mlst\u001b[49m\u001b[43m(\u001b[49m\u001b[43mn\u001b[49m\u001b[43m)\u001b[49m\n\u001b[0;32m     10\u001b[0m \u001b[38;5;28mprint\u001b[39m(\u001b[38;5;124m\"\u001b[39m\u001b[38;5;124mThe list is:\u001b[39m\u001b[38;5;124m\"\u001b[39m, result)\n",
      "Cell \u001b[1;32mIn[16], line 4\u001b[0m, in \u001b[0;36mlst\u001b[1;34m(n)\u001b[0m\n\u001b[0;32m      2\u001b[0m lst \u001b[38;5;241m=\u001b[39m []\n\u001b[0;32m      3\u001b[0m \u001b[38;5;28;01mfor\u001b[39;00m i \u001b[38;5;129;01min\u001b[39;00m \u001b[38;5;28mrange\u001b[39m (\u001b[38;5;241m0\u001b[39m, n):\n\u001b[1;32m----> 4\u001b[0m     ele \u001b[38;5;241m=\u001b[39m \u001b[38;5;28;43mint\u001b[39;49m\u001b[43m(\u001b[49m\u001b[38;5;28;43minput\u001b[39;49m\u001b[43m(\u001b[49m\u001b[43m)\u001b[49m\u001b[43m)\u001b[49m\n\u001b[0;32m      5\u001b[0m     integer \u001b[38;5;241m=\u001b[39m \u001b[38;5;28mint\u001b[39m(\u001b[38;5;28minput\u001b[39m(\u001b[38;5;124m\"\u001b[39m\u001b[38;5;124mEnter integer \u001b[39m\u001b[38;5;124m{\u001b[39m\u001b[38;5;124mi+1}: \u001b[39m\u001b[38;5;124m\"\u001b[39m))\n\u001b[0;32m      6\u001b[0m     lst\u001b[38;5;241m.\u001b[39mappend(integer)\n",
      "\u001b[1;31mValueError\u001b[0m: invalid literal for int() with base 10: '44 5 5 6 7 '"
     ]
    }
   ],
   "source": [
    "def get_integer_list(n):\n",
    "    integer_list = []\n",
    "    for i in range(n):\n",
    "        while True:\n",
    "            try:\n",
    "                integer = int(input(f\"Enter integer {i+1}: \"))\n",
    "                integer_list.append(integer)\n",
    "                break\n",
    "            except ValueError:\n",
    "                print(\"Invalid input! Please enter a valid integer.\")\n",
    "    return integer_list\n",
    "\n",
    "n = int(input(\"Enter the size of the list: \"))\n",
    "result = get_integer_list(n)\n",
    "print(\"The list is:\", result)\n"
   ]
  },
  {
   "cell_type": "code",
   "execution_count": 17,
   "id": "ada1a588-a53e-449f-b7ac-e20450922f8a",
   "metadata": {},
   "outputs": [
    {
     "name": "stdin",
     "output_type": "stream",
     "text": [
      "Enter the size of the list:  5\n",
      "Enter integer 1:  3\n",
      "Enter integer 2:  4\n",
      "Enter integer 3:  5\n",
      "Enter integer 4:  6\n",
      "Enter integer 5:  7\n"
     ]
    },
    {
     "name": "stdout",
     "output_type": "stream",
     "text": [
      "Statistics:\n",
      "Sum: 25\n",
      "Average: 5.0\n",
      "Minimum: 3\n",
      "Maximum: 7\n",
      "Cumulative Sum: [3, 7, 12, 18, 25]\n"
     ]
    }
   ],
   "source": [
    "def compute_statistics(numbers):\n",
    "    sum_numbers = sum(numbers)\n",
    "    average = sum_numbers / len(numbers)\n",
    "    min_number = min(numbers)\n",
    "    max_number = max(numbers)\n",
    "    cumulative_sum = [sum(numbers[:i+1]) for i in range(len(numbers))]\n",
    "    return {\n",
    "        'sum': sum_numbers,\n",
    "        'average': average,\n",
    "        'min': min_number,\n",
    "        'max': max_number,\n",
    "        'cumulative_sum': cumulative_sum\n",
    "    }\n",
    "def get_integer_list(n):\n",
    "    return [int(input(f\"Enter integer {i+1}: \")) for i in range(n)]\n",
    "\n",
    "n = int(input(\"Enter the size of the list: \"))\n",
    "numbers = get_integer_list(n)\n",
    "result = compute_statistics(numbers)\n",
    "\n",
    "print(\"Statistics:\")\n",
    "print(f\"Sum: {result['sum']}\")\n",
    "print(f\"Average: {result['average']}\")\n",
    "print(f\"Minimum: {result['min']}\")\n",
    "print(f\"Maximum: {result['max']}\")\n",
    "print(f\"Cumulative Sum: {result['cumulative_sum']}\")\n"
   ]
  },
  {
   "cell_type": "code",
   "execution_count": null,
   "id": "0d2e6013-3755-42c1-91cd-eb63e2d750a7",
   "metadata": {},
   "outputs": [],
   "source": []
  }
 ],
 "metadata": {
  "kernelspec": {
   "display_name": "Python 3 (ipykernel)",
   "language": "python",
   "name": "python3"
  },
  "language_info": {
   "codemirror_mode": {
    "name": "ipython",
    "version": 3
   },
   "file_extension": ".py",
   "mimetype": "text/x-python",
   "name": "python",
   "nbconvert_exporter": "python",
   "pygments_lexer": "ipython3",
   "version": "3.12.4"
  }
 },
 "nbformat": 4,
 "nbformat_minor": 5
}
